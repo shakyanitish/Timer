{
 "cells": [
  {
   "cell_type": "code",
   "execution_count": null,
   "id": "f7ecc642-0ec0-4ff1-a9d1-acee489d2eeb",
   "metadata": {},
   "outputs": [],
   "source": [
    "import time\n",
    "import threading\n",
    "from tkinter import *\n",
    "from tkinter import messagebox\n"
   ]
  },
  {
   "cell_type": "code",
   "execution_count": null,
   "id": "01b6eadb-8b79-40ad-9ce0-8b5568695dc7",
   "metadata": {},
   "outputs": [],
   "source": [
    "root = Tk()\n",
    "root.geometry(\"300x250\")\n",
    "root.title(\"Time Counter\")\n"
   ]
  },
  {
   "cell_type": "code",
   "execution_count": null,
   "id": "eaf2bf8f-fd15-4419-9040-4a710877b5fa",
   "metadata": {},
   "outputs": [],
   "source": [
    "#variables\n",
    "hour = StringVar()\n",
    "minute = StringVar()\n",
    "second = StringVar()\n",
    "\n",
    "hour.set(\"00\")\n",
    "minute.set(\"00\")\n",
    "second.set(\"00\")"
   ]
  },
  {
   "cell_type": "code",
   "execution_count": null,
   "id": "e164e28b-30dc-4dad-bc14-daabfc06762f",
   "metadata": {},
   "outputs": [],
   "source": [
    "print(hour.get())  # \"00\""
   ]
  },
  {
   "cell_type": "code",
   "execution_count": null,
   "id": "b6652f5f-111a-4b88-9f2e-0175fff623d4",
   "metadata": {},
   "outputs": [],
   "source": [
    "hourEntry = Entry(root, width=3, font=(\"Arial\", 18), textvariable=hour)\n",
    "hourEntry.place(x=80, y=20)\n",
    "\n",
    "minuteEntry = Entry(root, width=3, font=(\"Arial\", 18), textvariable=minute)\n",
    "minuteEntry.place(x=130, y=20)\n",
    "\n",
    "secondEntry = Entry(root, width=3, font=(\"Arial\", 18), textvariable=second)\n",
    "secondEntry.place(x=180, y=20)"
   ]
  },
  {
   "cell_type": "code",
   "execution_count": null,
   "id": "d0de10cf-01d6-4ee0-9fdf-5ce27be4b3eb",
   "metadata": {},
   "outputs": [],
   "source": [
    "def countdown():\n",
    "    try:\n",
    "        temp = int(hour.get()) * 3600 + int(minute.get()) * 60 + int(second.get())\n",
    "    except ValueError:\n",
    "        messagebox.showerror(\"Invalid Input\", \"Please enter valid integers for hours, minutes, and seconds.\")\n",
    "        return\n",
    "\n",
    "    while temp >= 0:\n",
    "        mins, secs = divmod(temp, 60)\n",
    "        hrs, mins = divmod(mins, 60)\n",
    "\n",
    "        hour.set(f\"{hrs:02d}\")\n",
    "        minute.set(f\"{mins:02d}\")\n",
    "        second.set(f\"{secs:02d}\")\n",
    "\n",
    "        root.update()\n",
    "        time.sleep(1)\n",
    "\n",
    "        if temp == 0:\n",
    "            messagebox.showinfo(\"Time Countdown\", \"Time's up\")\n",
    "\n",
    "        temp -= 1\n"
   ]
  },
  {
   "cell_type": "code",
   "execution_count": null,
   "id": "dc0c45ed-4252-49de-93d9-0bfc97d572f3",
   "metadata": {},
   "outputs": [],
   "source": [
    "def submit():\n",
    "    threading.Thread(target=countdown, daemon=True).start()\n",
    "\n",
    "btn = Button(root, text='Set Time Countdown', bd='5', command=submit)\n",
    "btn.place(x=70, y=120)\n"
   ]
  },
  {
   "cell_type": "code",
   "execution_count": null,
   "id": "0c01e88c-7b59-4ca0-8b7a-f1cc98dce8b8",
   "metadata": {},
   "outputs": [],
   "source": []
  }
 ],
 "metadata": {
  "kernelspec": {
   "display_name": "Python 3 (ipykernel)",
   "language": "python",
   "name": "python3"
  },
  "language_info": {
   "codemirror_mode": {
    "name": "ipython",
    "version": 3
   },
   "file_extension": ".py",
   "mimetype": "text/x-python",
   "name": "python",
   "nbconvert_exporter": "python",
   "pygments_lexer": "ipython3",
   "version": "3.13.5"
  }
 },
 "nbformat": 4,
 "nbformat_minor": 5
}
